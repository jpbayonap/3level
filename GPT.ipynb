{
 "cells": [
  {
   "cell_type": "code",
   "execution_count": 2,
   "metadata": {},
   "outputs": [
    {
     "data": {
      "text/plain": [
       "2.67"
      ]
     },
     "execution_count": 2,
     "metadata": {},
     "output_type": "execute_result"
    }
   ],
   "source": [
    "import numpy as np\n",
    "\n",
    "grades = {1:[85,96,100,100,90,100,100,100,100,99,95,97,98,98,89,99,90,99,89,87,81,80,90,90,92,80,81,82,78,87,80,60,84,97,99,92,87,76,76,91,84,97,76,84,80,87,92,99,100,60,52], 2:[93,95,96,80,61,85,79,79,86,100,98,91,79,90], 3:[91,60,76,90,78,85,100]}\n",
    "T= [i*len(grades[i])for i in range(1,4)]\n",
    "T= sum(T)\n",
    "T\n",
    "\n",
    "def GPT(x):\n",
    "    L = len(x)\n",
    "    for n in range(L):\n",
    "        if x[n]<60:\n",
    "            x[n]=0\n",
    "            \n",
    "        elif 60<=x[n]<=69:\n",
    "            x[n]= 1\n",
    "        \n",
    "        elif 69<x[n]<=79:\n",
    "            x[n]=2\n",
    "            \n",
    "        else:\n",
    "            x[n]=3\n",
    "            \n",
    "    return x\n",
    "    \n",
    "GPT = sum(GPT(grades[1]))+2*sum(GPT(grades[2]))+3*sum(GPT(grades[3]))\n",
    "GPT/T\n"
   ]
  },
  {
   "cell_type": "code",
   "execution_count": 13,
   "metadata": {},
   "outputs": [
    {
     "name": "stdout",
     "output_type": "stream",
     "text": [
      "0.13966220765613296\n",
      "0.16825156583115528\n",
      "0.18597374401883635\n"
     ]
    },
    {
     "data": {
      "text/plain": [
       "45233792.63609668"
      ]
     },
     "execution_count": 13,
     "metadata": {},
     "output_type": "execute_result"
    }
   ],
   "source": [
    "e = 1.602E-19\n",
    "h= 6.5821E-16\n",
    "m = 0.067*(511E3)/(3E8**2)\n",
    "e0 = 8.854E-12\n",
    "F= e*(5E15)/(2*e0)\n",
    "\n",
    "zeros= [-2.33811,-4.08795,-5.52056]\n",
    "\n",
    "for i in zeros:\n",
    "    print(pow(-((F*h)**2/(2*m))*i,1/3))\n",
    "    \n",
    "F"
   ]
  },
  {
   "cell_type": "code",
   "execution_count": 10,
   "metadata": {},
   "outputs": [
    {
     "data": {
      "text/plain": [
       "2.9625"
      ]
     },
     "execution_count": 10,
     "metadata": {},
     "output_type": "execute_result"
    }
   ],
   "source": [
    "import numpy as np\n",
    "grades={ 1:np.array([84,99,92,99,100]), 2:np.array([100,86,60,85,79,79,86,98,79,82,90]),3:np.array([100,85,78,90,76,60,91])}\n",
    "credits= [i*len(grades[i])for i in range(1,4)]\n",
    "credits = sum(credits)\n",
    "def GP(x):\n",
    "    for i in range(1,4):\n",
    "        x[i] = (x[i]-55)/10\n",
    "    return x\n",
    "grades = GP(grades)\n",
    "\n",
    "GP= (sum(grades[2]*2) +sum(grades[3]*3)+ sum(grades[1]) )\n",
    "GPT = GP/credits\n",
    "GPT\n"
   ]
  },
  {
   "cell_type": "code",
   "execution_count": 22,
   "metadata": {},
   "outputs": [
    {
     "data": {
      "text/plain": [
       "5"
      ]
     },
     "execution_count": 22,
     "metadata": {},
     "output_type": "execute_result"
    }
   ],
   "source": []
  }
 ],
 "metadata": {
  "kernelspec": {
   "display_name": "Python 3",
   "language": "python",
   "name": "python3"
  },
  "language_info": {
   "codemirror_mode": {
    "name": "ipython",
    "version": 3
   },
   "file_extension": ".py",
   "mimetype": "text/x-python",
   "name": "python",
   "nbconvert_exporter": "python",
   "pygments_lexer": "ipython3",
   "version": "3.8.5"
  }
 },
 "nbformat": 4,
 "nbformat_minor": 4
}
