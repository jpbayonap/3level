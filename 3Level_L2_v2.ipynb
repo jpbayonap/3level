{
 "cells": [
  {
   "cell_type": "code",
   "execution_count": 3,
   "metadata": {},
   "outputs": [
    {
     "data": {
      "text/plain": [
       "0.0023869346733668344"
      ]
     },
     "execution_count": 3,
     "metadata": {},
     "output_type": "execute_result"
    }
   ],
   "source": [
    "import numpy as np\n",
    "import os\n",
    "import matplotlib.pyplot as plt\n",
    "\n",
    "\n",
    "class case_1():\n",
    "    def __init__(self):\n",
    "        #carnot efficiency\n",
    "        self.n_c  = np.array([0.9,0.8,0.6,0.4])[3]\n",
    "        #temperatures\n",
    "        self.b_l  = 1/np.linspace(440,40,20)[1]\n",
    "        self.b_h  = (1-self.n_c)*self.b_l\n",
    "        #eigen energies\n",
    "        self.e_20 = 30\n",
    "        self.e_10 = (2/3)*self.e_20\n",
    "        #lindblad constants\n",
    "        self.g_l  = 100\n",
    "        #self.g_h  = np.array([self.g_l,self.g_l*0.5,self.g_l*0.2])\n",
    "        self.g_h  = self.g_l*np.append(np.arange(0.08,1,0.01),np.arange(1,10,0.25))\n",
    "        self.g    = (self.g_l+ self.g_h)/2\n",
    "        #cosine data\n",
    "        self.c    = []\n",
    "        #case_1(gamma) variables\n",
    "    def H_1(self):\n",
    "        H_1 = (np.exp(-self.b_l*self.e_20 )-np.exp(-self.b_h*self.e_20)\\\n",
    "                    + np.exp(-self.b_h*self.e_10)-np.exp(-self.b_l*self.e_10 ) )\\\n",
    "                    /(1/2*(2+ np.exp(-self.b_l*self.e_20 )+np.exp(-self.b_h*self.e_20)\\\n",
    "                    + np.exp(-self.b_h*self.e_10)+np.exp(-self.b_l*self.e_10 ) )) \n",
    "            #print(step)\n",
    "        return H_1\n",
    "    def I_1(self):\n",
    "        I_1 =  ((1+np.exp(-self.b_l*self.e_20)+np.exp(-self.b_h*self.e_20) )/(self.g_l)\\\n",
    "                    +(1+np.exp(-self.b_h*self.e_10)+np.exp(-self.b_l*self.e_10 ))/self.g_h)\\\n",
    "                    /(1/2*(2+ np.exp(-self.b_l*self.e_20 )+np.exp(-self.b_h*self.e_20)\\\n",
    "                    + np.exp(-self.b_h*self.e_10)+np.exp(-self.b_l*self.e_10 ) )) \n",
    "        return I_1\n",
    "    def J_1(self):\n",
    "        J_1 =  ((np.exp(-self.b_l*self.e_20)-np.exp(-self.b_h*self.e_20))/self.g_l \\\n",
    "                    +(np.exp(-self.b_h*self.e_10)-np.exp(-self.b_l*self.e_10))/self.g_h )\\\n",
    "                    /(1/2*(2+ np.exp(-self.b_l*self.e_20 )+np.exp(-self.b_h*self.e_20)\\\n",
    "                    + np.exp(-self.b_h*self.e_10)+np.exp(-self.b_l*self.e_10 ) ))\n",
    "        return J_1\n",
    "    \n",
    "            \n",
    "          \n",
    "case_1().b_l"
   ]
  },
  {
   "cell_type": "code",
   "execution_count": 29,
   "metadata": {},
   "outputs": [
    {
     "data": {
      "text/plain": [
       "182"
      ]
     },
     "execution_count": 29,
     "metadata": {},
     "output_type": "execute_result"
    }
   ],
   "source": [
    "\n"
   ]
  },
  {
   "cell_type": "code",
   "execution_count": 29,
   "metadata": {},
   "outputs": [],
   "source": [
    "\n",
    "class case_2():\n",
    "    def __init__(self):\n",
    "        #carnot efficiency\n",
    "        self.n_c  = np.array([0.9,0.8,0.6,0.4])[3]\n",
    "        #temperatures\n",
    "        self.b_l  = 1/np.linspace(440,40,50)\n",
    "        self.b_h  = (1-self.n_c)*self.b_l\n",
    "        #eigen energies\n",
    "        self.e_20 = 30\n",
    "        self.e_10 = (2/3)*self.e_20\n",
    "        #lindblad constants\n",
    "        self.g_l  = 100\n",
    "        #self.g_h  = np.array([self.g_l,self.g_l*0.5,self.g_l*0.2])\n",
    "        self.g_h  = self.g_l*5\n",
    "        self.g    = (self.g_l+ self.g_h)/2\n",
    "        #cosine data\n",
    "        self.c    = []\n",
    "    #case 2 (beta_l)\n",
    "    def H_2(self):\n",
    "        H_2 = (np.exp(-self.b_l*self.e_20 )-np.exp(-self.b_h*self.e_20)\\\n",
    "                + np.exp(-self.b_h*self.e_10)-np.exp(-self.b_l*self.e_10 ) )\\\n",
    "                /(1/2*(2+ np.exp(-self.b_l*self.e_20 )+np.exp(-self.b_h*self.e_20)\\\n",
    "                + np.exp(-self.b_h*self.e_10)+np.exp(-self.b_l*self.e_10 ) )) \n",
    "        #print(step)\n",
    "        return H_2\n",
    "    def I_2(self):\n",
    "            I_2 =  ((1+np.exp(-self.b_l*self.e_20)+np.exp(-self.b_h*self.e_20) )/(self.g_l)\\\n",
    "                        +(1+np.exp(-self.b_h*self.e_10)+np.exp(-self.b_l*self.e_10 ))/self.g_h)\\\n",
    "                        /(1/2*(2+ np.exp(-self.b_l*self.e_20 )+np.exp(-self.b_h*self.e_20)\\\n",
    "                        + np.exp(-self.b_h*self.e_10)+np.exp(-self.b_l*self.e_10 ) )) \n",
    "            return I_2\n",
    "    def J_2(self):\n",
    "        J_2 =  ((np.exp(-self.b_l*self.e_20)-np.exp(-self.b_h*self.e_20))/self.g_l \\\n",
    "                    +(np.exp(-self.b_h*self.e_10)-np.exp(-self.b_l*self.e_10))/self.g_h )\\\n",
    "                    /(1/2*(2+ np.exp(-self.b_l*self.e_20 )+np.exp(-self.b_h*self.e_20)\\\n",
    "                    + np.exp(-self.b_h*self.e_10)+np.exp(-self.b_l*self.e_10 ) ))\n",
    "        return J_2\n",
    "    "
   ]
  },
  {
   "cell_type": "code",
   "execution_count": 30,
   "metadata": {},
   "outputs": [],
   "source": [
    "\n",
    "class case_3():\n",
    "    def __init__(self):\n",
    "        #carnot efficiency\n",
    "        self.n_c  = np.array([0.9,0.8,0.6,0.4])[3]\n",
    "        #temperatures\n",
    "        self.b_l  = 1/np.linspace(440,40,20)[1]\n",
    "        self.b_h  = (1-self.n_c)*self.b_l\n",
    "        #eigen energies\n",
    "        self.e_20 = 30\n",
    "        self.e_10 = np.arange(0.1,0.6,0.01)*self.e_20\n",
    "        #lindblad constants\n",
    "        self.g_l  = 100\n",
    "        #self.g_h  = np.array([self.g_l,self.g_l*0.5,self.g_l*0.2])\n",
    "        self.g_h  = self.g_l*5\n",
    "        self.g    = (self.g_l+ self.g_h)/2\n",
    "        #cosine data\n",
    "        self.c    = []\n",
    "        #case_3 (eta_c)\n",
    "    def H_3(self):\n",
    "        H_3 = (np.exp(-self.b_l*self.e_20 )-np.exp(-self.b_h*self.e_20)\\\n",
    "                    + np.exp(-self.b_h*self.e_10)-np.exp(-self.b_l*self.e_10 ) )\\\n",
    "                    /(1/2*(2+ np.exp(-self.b_l*self.e_20 )+np.exp(-self.b_h*self.e_20)\\\n",
    "                    + np.exp(-self.b_h*self.e_10)+np.exp(-self.b_l*self.e_10 ) )) \n",
    "            #print(step)\n",
    "        return H_3\n",
    "    def I_3(self):\n",
    "        I_3 =  ((1+np.exp(-self.b_l*self.e_20)+np.exp(-self.b_h*self.e_20) )/(self.g_l)\\\n",
    "                    +(1+np.exp(-self.b_h*self.e_10)+np.exp(-self.b_l*self.e_10 ))/self.g_h)\\\n",
    "                    /(1/2*(2+ np.exp(-self.b_l*self.e_20 )+np.exp(-self.b_h*self.e_20)\\\n",
    "                    + np.exp(-self.b_h*self.e_10)+np.exp(-self.b_l*self.e_10 ) )) \n",
    "        return I_3\n",
    "    def J_3(self):\n",
    "        J_3 =  ((np.exp(-self.b_l*self.e_20)-np.exp(-self.b_h*self.e_20))/self.g_l \\\n",
    "                    +(np.exp(-self.b_h*self.e_10)-np.exp(-self.b_l*self.e_10))/self.g_h )\\\n",
    "                    /(1/2*(2+ np.exp(-self.b_l*self.e_20 )+np.exp(-self.b_h*self.e_20)\\\n",
    "                    + np.exp(-self.b_h*self.e_10)+np.exp(-self.b_l*self.e_10 ) ))\n",
    "        return J_3\n"
   ]
  },
  {
   "cell_type": "code",
   "execution_count": 32,
   "metadata": {},
   "outputs": [],
   "source": [
    "import sympy as sy\n",
    "from sympy import real_roots\n",
    "from sympy.abc import x\n",
    "from  sympy.functions import exp\n",
    "\n",
    "var1 = case_1()\n",
    "var2 = case_2()\n",
    "var3 = case_3()\n",
    "\n",
    "\n",
    "H= np.array([var1.H_1(),var2.H_2(),var3.H_3()])\n",
    "I =np.array([var1.I_1(),var2.I_2(),var3.I_3()])\n",
    "J = np.array([var1.J_1(),var2.J_2(),var3.J_3()])\n",
    "\n",
    "P_3 = np.array([np.exp(-var1.b_l*var1.e_20)-np.exp(-var1.b_h*var1.e_10)\\\n",
    "    -np.exp(-var1.b_h*var1.e_20)+np.exp(-var1.b_l*var1.e_10),\n",
    "                np.exp(-var2.b_l*var2.e_20)-np.exp(-var2.b_h*var2.e_10)\\\n",
    "    -np.exp(-var2.b_h*var2.e_20)+np.exp(-var2.b_l*var2.e_10),\n",
    "    np.exp(-var3.b_l*var3.e_20)-np.exp(-var3.b_h*var3.e_10)\\\n",
    "    -np.exp(-var3.b_h*var3.e_20)+np.exp(-var3.b_l*var3.e_10)])\n",
    "\n",
    "P_2 =np.array([-np.exp(-var1.b_l*var1.e_20)+np.exp(-var1.b_h*var1.e_10)\\\n",
    "    -np.exp(-var1.b_h*var1.e_20)+np.exp(-var1.b_l*var1.e_10),\n",
    "               -np.exp(-var2.b_l*var2.e_20)+np.exp(-var2.b_h*var2.e_10)\\\n",
    "    -np.exp(-var2.b_h*var2.e_20)+np.exp(-var2.b_l*var2.e_10),\n",
    "               -np.exp(-var3.b_l*var3.e_20)+np.exp(-var3.b_h*var3.e_10)\\\n",
    "    -np.exp(-var3.b_h*var3.e_20)+np.exp(-var3.b_l*var3.e_10)])\n",
    "\n",
    "P_1 = np.array([-np.exp(-var1.b_l*var1.e_20)+np.exp(-var1.b_h*var1.e_10)\\\n",
    "    +np.exp(-var1.b_h*var1.e_20)-np.exp(-var1.b_l*var1.e_10),\n",
    "                -np.exp(-var2.b_l*var2.e_20)+np.exp(-var2.b_h*var2.e_10)\\\n",
    "    +np.exp(-var2.b_h*var2.e_20)-np.exp(-var2.b_l*var2.e_10),\n",
    "                -np.exp(-var3.b_l*var3.e_20)+np.exp(-var3.b_h*var3.e_10)\\\n",
    "    +np.exp(-var3.b_h*var3.e_20)-np.exp(-var3.b_l*var3.e_10) ])\n",
    "\n",
    "P_0 = np.array([np.exp(-var1.b_l*var1.e_20)-np.exp(-var1.b_h*var1.e_10)\\\n",
    "    +np.exp(-var1.b_h*var1.e_20)-np.exp(-var1.b_l*var1.e_10),\n",
    "                np.exp(-var2.b_l*var2.e_20)-np.exp(-var2.b_h*var2.e_10)\\\n",
    "    +np.exp(-var2.b_h*var2.e_20)-np.exp(-var2.b_l*var2.e_10),\n",
    "                np.exp(-var3.b_l*var3.e_20)-np.exp(-var3.b_h*var3.e_10)\\\n",
    "    +np.exp(-var3.b_h*var3.e_20)-np.exp(-var3.b_l*var3.e_10)])\n",
    "\n",
    "\n",
    "GA = np.array([(var1.g/(var1.e_20-var1.e_10))**2,(var2.g/(var2.e_20-var2.e_10))**2,(var3.g/(var3.e_20-var3.e_10))**2])\n",
    "g  = np.array([var1.g,var2.g,var3.g])\n",
    "poly =  (3*(x**2)*P_3 +2*x*P_2 +P_1)*\\\n",
    "        ((x**3)*((-GA/(2*g))*H + 1/2*(1+GA)*J)+ (x**2)*( GA/g - 1/2*(1+GA)*I)- x*(J/2)*(1+GA) + (I/2)*(1+GA) )\\\n",
    "        -( (x**3)*P_3+(x**2)*P_2+x*P_1+ P_0)*(3*(x**2)*((-GA/(2*g))*H + 1/2*(1+GA)*J)+ 2*x*( GA/g - 1/2*(1+GA)*I)\\\n",
    "        -(J/2)*(1+GA) )\n",
    "\n",
    "\n"
   ]
  },
  {
   "cell_type": "code",
   "execution_count": 33,
   "metadata": {},
   "outputs": [],
   "source": [
    "def max_angle(poly):\n",
    "    max_angle=[[]]*3\n",
    "    for i in range(3):\n",
    "        max_angle[i]= [sy.solve(j,x) for j in poly[i]]\n",
    "            #max_angle[i].append(j)\n",
    "    return max_angle\n",
    "\n",
    "max_angle= max_angle(poly)\n"
   ]
  },
  {
   "cell_type": "code",
   "execution_count": null,
   "metadata": {},
   "outputs": [],
   "source": []
  },
  {
   "cell_type": "code",
   "execution_count": 63,
   "metadata": {},
   "outputs": [],
   "source": [
    "from functools import reduce\n",
    "\n",
    "def filter(max_angle):\n",
    "    for i in range(len(max_angle)):\n",
    "        h1 =len(max_angle[i])\n",
    "        for j in range(h1):\n",
    "            max_angle[i][j]= [value for value in max_angle[i][j] if 0<sy.re(value)<1 and sy.im(value)==0 ]\n",
    "            max_angle[i][j]= [-1] if max_angle[i][j] == [] else max_angle[i][j]\n",
    "    return np.array(max_angle)\n",
    "\n",
    "second_max= filter(max_angle)\n",
    "# flatten the maximized angle array\n",
    "second_max= [reduce(lambda a, b: a + b, value) for value in second_max]\n"
   ]
  },
  {
   "cell_type": "code",
   "execution_count": null,
   "metadata": {},
   "outputs": [],
   "source": []
  },
  {
   "cell_type": "code",
   "execution_count": 64,
   "metadata": {},
   "outputs": [],
   "source": [
    "#case 2\n",
    "def power_l2(var,second_max,i,marker):\n",
    "    c = np.array(second_max[i])\n",
    "    power_l2 = (var.e_20-var.e_10 *((1 + GA[i])*(1- c**2)*\\\n",
    "                ((1-c )/2 )*(np.exp(-var.b_l*var.e_20)-np.exp(-var.b_h*var.e_10) )\\\n",
    "                +(1-c )/2 )*(np.exp(-var.b_h*var.e_20)-np.exp(-var.b_l*var.e_10) ))\\\n",
    "                /((2+np.exp(-var.b_l*var.e_20)+np.exp(-var.b_h*var.e_20)\\\n",
    "                +np.exp(-var.b_l*var.e_10)+np.exp(-var.b_h*var.e_10))\\\n",
    "                *( (GA[i]/g[i])*c**2 - ((GA[i])/(2*g[i]))*H[i]*c**3\\\n",
    "                + ((1-c**2)/2)*(1+ GA[i])*(I[i]-J[i]*c) ))\n",
    "    marker = marker[np.where(c>=0)]\n",
    "   \n",
    "    # eliminate unwanted values\n",
    "    return power_l2[np.where(c>=0)] ,marker\n"
   ]
  },
  {
   "cell_type": "code",
   "execution_count": 65,
   "metadata": {},
   "outputs": [],
   "source": [
    "power_l2_1,marker_1  = power_l2(var1,second_max,0,var1.g_h)\n",
    "power_l2_2,marker_2  = power_l2(var2,second_max,1,var2.b_l)\n",
    "power_l2_3,marker_3  = power_l2(var3,second_max,2,var3.e_10)"
   ]
  },
  {
   "cell_type": "code",
   "execution_count": 66,
   "metadata": {},
   "outputs": [],
   "source": [
    "var1.g_h = marker_1\n",
    "var1.g   = (var1.g_l+ marker_1)/2\n",
    "var2.b_l = marker_2\n",
    "var2.b_h = (1-var2.n_c)*marker_2\n",
    "var3.e_10 = marker_3\n"
   ]
  },
  {
   "cell_type": "code",
   "execution_count": 52,
   "metadata": {},
   "outputs": [
    {
     "data": {
      "text/plain": [
       "47"
      ]
     },
     "execution_count": 52,
     "metadata": {},
     "output_type": "execute_result"
    }
   ],
   "source": [
    "var3.e_10.size"
   ]
  },
  {
   "cell_type": "code",
   "execution_count": 191,
   "metadata": {},
   "outputs": [
    {
     "data": {
      "text/plain": [
       "47"
      ]
     },
     "execution_count": 191,
     "metadata": {},
     "output_type": "execute_result"
    }
   ],
   "source": []
  },
  {
   "cell_type": "code",
   "execution_count": 67,
   "metadata": {},
   "outputs": [],
   "source": [
    "\n",
    "def n_l2(var,power,second_max,i):\n",
    "    c= np.array(second_max[i])\n",
    "    c = c[np.where(c>=0)]\n",
    "    eta_0 =  (1 - (var.e_10)/(var.e_20))/(1 - ((1-c)/2)*(1+ var.e_10/var.e_20 ))\n",
    "    p_0   =  var.g_l*var.e_10*((1-c**2)/4)*(np.exp(-var.b_h*var.e_10)-np.exp(-var.b_l*var.e_10) ) \\\n",
    "            +var.g_h*var.e_20*((1-c**2)/4)*(np.exp(-var.b_h*var.e_20)-np.exp(-var.b_l*var.e_20) )\n",
    "    om_s  = ((var.e_20-var.e_10)**2 +var.g**2)/((var.e_20-var.e_10)*c)\n",
    "    rho_0 =  (((1-c**2)*om_s)/var.g_l+((1-c**2)*om_s)/var.g_h + (2*var.g*c)/(var.e_20-var.e_10) ) \\\n",
    "            /( (1+ (1-c)*np.exp(-var.b_l*var.e_20) +(1+c)*np.exp(-var.b_h*var.e_20) )\\\n",
    "              *( ((1-c**2)*om_s)/var.g_l+(var.g*c)/(var.e_20-var.e_10))\\\n",
    "             +( (1+ (1+c)*np.exp(-var.b_l*var.e_10) +(1-c)*np.exp(-var.b_h*var.e_10) )\\\n",
    "              *( ((1-c**2)*om_s)/var.g_h+(var.g*c)/(var.e_20-var.e_10))))\n",
    "   \n",
    "    n = eta_0*((power))/(power+ eta_0*rho_0*p_0 )\n",
    "    return n\n"
   ]
  },
  {
   "cell_type": "code",
   "execution_count": 68,
   "metadata": {},
   "outputs": [],
   "source": [
    "n_l2_1 = n_l2(var1,power_l2_1,second_max,0)\n",
    "n_l2_2 = n_l2(var2,power_l2_2,second_max,1)\n",
    "n_l2_3 = n_l2(var3,power_l2_3,second_max,2)"
   ]
  },
  {
   "cell_type": "code",
   "execution_count": null,
   "metadata": {},
   "outputs": [],
   "source": []
  },
  {
   "cell_type": "code",
   "execution_count": 72,
   "metadata": {},
   "outputs": [
    {
     "data": {
      "text/plain": [
       "Text(0.5, 1.0, 'Power and efficiency relation after frequency and angle optimization')"
      ]
     },
     "execution_count": 72,
     "metadata": {},
     "output_type": "execute_result"
    },
    {
     "data": {
      "image/png": "[encoded data removed]",
      "text/plain": [
       "<Figure size 576x432 with 1 Axes>"
      ]
     },
     "metadata": {
      "needs_background": "light"
     },
     "output_type": "display_data"
    }
   ],
   "source": [
    "import matplotlib.pyplot as plt\n",
    "import os\n",
    "my_path= os.path.abspath('/home/juan/Desktop')\n",
    "fig, ax = plt.subplots(figsize=(8, 6))\n",
    "ax.set_xlabel(r'$\\eta$')\n",
    "#ax.set_ylabel(r'$P(\\omega^*,\\cos \\theta^*)$')\n",
    "ax.set_ylabel(r'$P$')\n",
    "\n",
    "ax.plot(n_l2_1,power_l2_1, label= r'$\\eta_c= $'+'%.2f'%(var1.n_c))\n",
    "#ax.set_xlim(0.3,0.5)\n",
    "props = dict(boxstyle='square', facecolor='ivory', alpha=0.3)\n",
    "textstr = '\\n'.join( (r'$ \\beta_l= %.3f$'%(var1.b_l),\n",
    "r'$\\frac{\\epsilon_{21}}{\\epsilon_{20}}=%.3f$' % (1-var1.e_10/var1.e_20, ) ,\n",
    "r'$ carnot\\; eff.\\eta_c = %.2f$'%(var3.n_c)                      \n",
    " ))\n",
    "ax.text(0.03, 0.58, textstr, transform=ax.transAxes, fontsize=11.2, verticalalignment='top', bbox=props)\n",
    "ax.set_title('Power and efficiency relation after frequency and angle optimization')\n",
    "\n",
    "#fig.savefig(os.path.join(my_path,'maxpower_eta_c_l2_v2.png'))"
   ]
  },
  {
   "cell_type": "code",
   "execution_count": null,
   "metadata": {},
   "outputs": [],
   "source": []
  },
  {
   "cell_type": "code",
   "execution_count": 277,
   "metadata": {},
   "outputs": [],
   "source": [
    "data = np.column_stack((n_l2_1,power_l2_1))\n",
    "header = \"efficiency(omega^*) at max.angle,power p(omega^*) at max angle\"\n",
    "np.savetxt('l2_n_c_0.8.dat',data,header=header)"
   ]
  },
  {
   "cell_type": "code",
   "execution_count": 47,
   "metadata": {},
   "outputs": [],
   "source": [
    "import json \n",
    "\n",
    "dic = { 'case_1':{'x':list(n_l2_1),'y':list( power_l2_1)},'case_2':{'x':list(n_l2_2),'y': list(power_l2_2)},\\\n",
    "      'case_3':{'x':list(n_l2_3),'y': list(power_l2_3)}}"
   ]
  },
  {
   "cell_type": "code",
   "execution_count": 48,
   "metadata": {},
   "outputs": [],
   "source": [
    "import pickle\n",
    "with open('limit2_n_c_0.4.json','wb') as f:\n",
    "    pickle.dump(dic,f)"
   ]
  },
  {
   "cell_type": "code",
   "execution_count": 50,
   "metadata": {},
   "outputs": [],
   "source": [
    "import pickle\n",
    "with open('limit2_n_c_0.4.json','rb') as f:\n",
    "    dic1 =pickle.load(f)"
   ]
  },
  {
   "cell_type": "code",
   "execution_count": 53,
   "metadata": {},
   "outputs": [
    {
     "data": {
      "text/plain": [
       "Text(0.5, 0, 'P')"
      ]
     },
     "execution_count": 53,
     "metadata": {},
     "output_type": "execute_result"
    },
    {
     "data": {
      "image/png": "[encoded data removed]",
      "text/plain": [
       "<Figure size 432x288 with 1 Axes>"
      ]
     },
     "metadata": {
      "needs_background": "light"
     },
     "output_type": "display_data"
    }
   ],
   "source": [
    "import matplotlib.pyplot as plt\n",
    "x1 =dic1['case_1']['x']\n",
    "y1= dic1['case_1']['y']\n",
    "#x3= dic1['case_3']['x']\n",
    "#y3 =dic1['case_3']['y']\n",
    "x2= dic1['case_2']['x']\n",
    "y2 =dic1['case_2']['y']\n",
    "plt.plot(x1,y1)\n",
    "plt.ylabel(r'$\\eta$')\n",
    "plt.xlabel('P')\n"
   ]
  },
  {
   "cell_type": "code",
   "execution_count": 73,
   "metadata": {},
   "outputs": [
    {
     "data": {
      "text/plain": [
       "array([], dtype=float64)"
      ]
     },
     "execution_count": 73,
     "metadata": {},
     "output_type": "execute_result"
    }
   ],
   "source": [
    "n_l2_1"
   ]
  },
  {
   "cell_type": "code",
   "execution_count": 1,
   "metadata": {},
   "outputs": [
    {
     "name": "stdout",
     "output_type": "stream",
     "text": [
      "Available Themes: \r\n",
      "   chesterish\r\n",
      "   grade3\r\n",
      "   gruvboxd\r\n",
      "   gruvboxl\r\n",
      "   monokai\r\n",
      "   oceans16\r\n",
      "   onedork\r\n",
      "   solarizedd\r\n",
      "   solarizedl\r\n"
     ]
    }
   ],
   "source": [
    "!jt -l"
   ]
  },
  {
   "cell_type": "code",
   "execution_count": 6,
   "metadata": {},
   "outputs": [
    {
     "data": {
      "text/plain": [
       "[Piecewise((-b/2 - sqrt(b**2 - 2*(-(-3*b**2/2 + (b*d - e)/c)**3/108 + (-3*b**2/2 + (b*d - e)/c)*(-2*b*(2*b*(3*b**2/64 - (b*d - e)/(16*c)) - 1/(2*c)) - b*f/c)/3 - (2*b*(b**2/2 - (b*d - e)/(2*c)) - 2/c)**2/8)**(1/3) - 2*(b*d - e)/(3*c))/2 - sqrt(2*b**2 + (4*b*(b**2/2 - (b*d - e)/(2*c)) - 4/c)/sqrt(b**2 - 2*(-(-3*b**2/2 + (b*d - e)/c)**3/108 + (-3*b**2/2 + (b*d - e)/c)*(-2*b*(2*b*(3*b**2/64 - (b*d - e)/(16*c)) - 1/(2*c)) - b*f/c)/3 - (2*b*(b**2/2 - (b*d - e)/(2*c)) - 2/c)**2/8)**(1/3) - 2*(b*d - e)/(3*c)) + 2*(-(-3*b**2/2 + (b*d - e)/c)**3/108 + (-3*b**2/2 + (b*d - e)/c)*(-2*b*(2*b*(3*b**2/64 - (b*d - e)/(16*c)) - 1/(2*c)) - b*f/c)/3 - (2*b*(b**2/2 - (b*d - e)/(2*c)) - 2/c)**2/8)**(1/3) - 4*(b*d - e)/(3*c))/2, Eq(2*b*(2*b*(3*b**2/64 - (b*d - e)/(16*c)) - 1/(2*c)) + b*f/c - (-3*b**2/2 + (b*d - e)/c)**2/12, 0)), (-b/2 - sqrt(b**2 - 2*(2*b*(2*b*(3*b**2/64 - (b*d - e)/(16*c)) - 1/(2*c)) + b*f/c - (-3*b**2/2 + (b*d - e)/c)**2/12)/(3*((-3*b**2/2 + (b*d - e)/c)**3/216 - (-3*b**2/2 + (b*d - e)/c)*(-2*b*(2*b*(3*b**2/64 - (b*d - e)/(16*c)) - 1/(2*c)) - b*f/c)/6 + (2*b*(b**2/2 - (b*d - e)/(2*c)) - 2/c)**2/16 + sqrt((2*b*(2*b*(3*b**2/64 - (b*d - e)/(16*c)) - 1/(2*c)) + b*f/c - (-3*b**2/2 + (b*d - e)/c)**2/12)**3/27 + (-(-3*b**2/2 + (b*d - e)/c)**3/108 + (-3*b**2/2 + (b*d - e)/c)*(-2*b*(2*b*(3*b**2/64 - (b*d - e)/(16*c)) - 1/(2*c)) - b*f/c)/3 - (2*b*(b**2/2 - (b*d - e)/(2*c)) - 2/c)**2/8)**2/4))**(1/3)) + 2*((-3*b**2/2 + (b*d - e)/c)**3/216 - (-3*b**2/2 + (b*d - e)/c)*(-2*b*(2*b*(3*b**2/64 - (b*d - e)/(16*c)) - 1/(2*c)) - b*f/c)/6 + (2*b*(b**2/2 - (b*d - e)/(2*c)) - 2/c)**2/16 + sqrt((2*b*(2*b*(3*b**2/64 - (b*d - e)/(16*c)) - 1/(2*c)) + b*f/c - (-3*b**2/2 + (b*d - e)/c)**2/12)**3/27 + (-(-3*b**2/2 + (b*d - e)/c)**3/108 + (-3*b**2/2 + (b*d - e)/c)*(-2*b*(2*b*(3*b**2/64 - (b*d - e)/(16*c)) - 1/(2*c)) - b*f/c)/3 - (2*b*(b**2/2 - (b*d - e)/(2*c)) - 2/c)**2/8)**2/4))**(1/3) - 2*(b*d - e)/(3*c))/2 - sqrt(2*b**2 + (4*b*(b**2/2 - (b*d - e)/(2*c)) - 4/c)/sqrt(b**2 - 2*(2*b*(2*b*(3*b**2/64 - (b*d - e)/(16*c)) - 1/(2*c)) + b*f/c - (-3*b**2/2 + (b*d - e)/c)**2/12)/(3*((-3*b**2/2 + (b*d - e)/c)**3/216 - (-3*b**2/2 + (b*d - e)/c)*(-2*b*(2*b*(3*b**2/64 - (b*d - e)/(16*c)) - 1/(2*c)) - b*f/c)/6 + (2*b*(b**2/2 - (b*d - e)/(2*c)) - 2/c)**2/16 + sqrt((2*b*(2*b*(3*b**2/64 - (b*d - e)/(16*c)) - 1/(2*c)) + b*f/c - (-3*b**2/2 + (b*d - e)/c)**2/12)**3/27 + (-(-3*b**2/2 + (b*d - e)/c)**3/108 + (-3*b**2/2 + (b*d - e)/c)*(-2*b*(2*b*(3*b**2/64 - (b*d - e)/(16*c)) - 1/(2*c)) - b*f/c)/3 - (2*b*(b**2/2 - (b*d - e)/(2*c)) - 2/c)**2/8)**2/4))**(1/3)) + 2*((-3*b**2/2 + (b*d - e)/c)**3/216 - (-3*b**2/2 + (b*d - e)/c)*(-2*b*(2*b*(3*b**2/64 - (b*d - e)/(16*c)) - 1/(2*c)) - b*f/c)/6 + (2*b*(b**2/2 - (b*d - e)/(2*c)) - 2/c)**2/16 + sqrt((2*b*(2*b*(3*b**2/64 - (b*d - e)/(16*c)) - 1/(2*c)) + b*f/c - (-3*b**2/2 + (b*d - e)/c)**2/12)**3/27 + (-(-3*b**2/2 + (b*d - e)/c)**3/108 + (-3*b**2/2 + (b*d - e)/c)*(-2*b*(2*b*(3*b**2/64 - (b*d - e)/(16*c)) - 1/(2*c)) - b*f/c)/3 - (2*b*(b**2/2 - (b*d - e)/(2*c)) - 2/c)**2/8)**2/4))**(1/3) - 2*(b*d - e)/(3*c)) + 2*(2*b*(2*b*(3*b**2/64 - (b*d - e)/(16*c)) - 1/(2*c)) + b*f/c - (-3*b**2/2 + (b*d - e)/c)**2/12)/(3*((-3*b**2/2 + (b*d - e)/c)**3/216 - (-3*b**2/2 + (b*d - e)/c)*(-2*b*(2*b*(3*b**2/64 - (b*d - e)/(16*c)) - 1/(2*c)) - b*f/c)/6 + (2*b*(b**2/2 - (b*d - e)/(2*c)) - 2/c)**2/16 + sqrt((2*b*(2*b*(3*b**2/64 - (b*d - e)/(16*c)) - 1/(2*c)) + b*f/c - (-3*b**2/2 + (b*d - e)/c)**2/12)**3/27 + (-(-3*b**2/2 + (b*d - e)/c)**3/108 + (-3*b**2/2 + (b*d - e)/c)*(-2*b*(2*b*(3*b**2/64 - (b*d - e)/(16*c)) - 1/(2*c)) - b*f/c)/3 - (2*b*(b**2/2 - (b*d - e)/(2*c)) - 2/c)**2/8)**2/4))**(1/3)) - 2*((-3*b**2/2 + (b*d - e)/c)**3/216 - (-3*b**2/2 + (b*d - e)/c)*(-2*b*(2*b*(3*b**2/64 - (b*d - e)/(16*c)) - 1/(2*c)) - b*f/c)/6 + (2*b*(b**2/2 - (b*d - e)/(2*c)) - 2/c)**2/16 + sqrt((2*b*(2*b*(3*b**2/64 - (b*d - e)/(16*c)) - 1/(2*c)) + b*f/c - (-3*b**2/2 + (b*d - e)/c)**2/12)**3/27 + (-(-3*b**2/2 + (b*d - e)/c)**3/108 + (-3*b**2/2 + (b*d - e)/c)*(-2*b*(2*b*(3*b**2/64 - (b*d - e)/(16*c)) - 1/(2*c)) - b*f/c)/3 - (2*b*(b**2/2 - (b*d - e)/(2*c)) - 2/c)**2/8)**2/4))**(1/3) - 4*(b*d - e)/(3*c))/2, True)),\n",
       " Piecewise((-b/2 - sqrt(b**2 - 2*(-(-3*b**2/2 + (b*d - e)/c)**3/108 + (-3*b**2/2 + (b*d - e)/c)*(-2*b*(2*b*(3*b**2/64 - (b*d - e)/(16*c)) - 1/(2*c)) - b*f/c)/3 - (2*b*(b**2/2 - (b*d - e)/(2*c)) - 2/c)**2/8)**(1/3) - 2*(b*d - e)/(3*c))/2 + sqrt(2*b**2 + (4*b*(b**2/2 - (b*d - e)/(2*c)) - 4/c)/sqrt(b**2 - 2*(-(-3*b**2/2 + (b*d - e)/c)**3/108 + (-3*b**2/2 + (b*d - e)/c)*(-2*b*(2*b*(3*b**2/64 - (b*d - e)/(16*c)) - 1/(2*c)) - b*f/c)/3 - (2*b*(b**2/2 - (b*d - e)/(2*c)) - 2/c)**2/8)**(1/3) - 2*(b*d - e)/(3*c)) + 2*(-(-3*b**2/2 + (b*d - e)/c)**3/108 + (-3*b**2/2 + (b*d - e)/c)*(-2*b*(2*b*(3*b**2/64 - (b*d - e)/(16*c)) - 1/(2*c)) - b*f/c)/3 - (2*b*(b**2/2 - (b*d - e)/(2*c)) - 2/c)**2/8)**(1/3) - 4*(b*d - e)/(3*c))/2, Eq(2*b*(2*b*(3*b**2/64 - (b*d - e)/(16*c)) - 1/(2*c)) + b*f/c - (-3*b**2/2 + (b*d - e)/c)**2/12, 0)), (-b/2 - sqrt(b**2 - 2*(2*b*(2*b*(3*b**2/64 - (b*d - e)/(16*c)) - 1/(2*c)) + b*f/c - (-3*b**2/2 + (b*d - e)/c)**2/12)/(3*((-3*b**2/2 + (b*d - e)/c)**3/216 - (-3*b**2/2 + (b*d - e)/c)*(-2*b*(2*b*(3*b**2/64 - (b*d - e)/(16*c)) - 1/(2*c)) - b*f/c)/6 + (2*b*(b**2/2 - (b*d - e)/(2*c)) - 2/c)**2/16 + sqrt((2*b*(2*b*(3*b**2/64 - (b*d - e)/(16*c)) - 1/(2*c)) + b*f/c - (-3*b**2/2 + (b*d - e)/c)**2/12)**3/27 + (-(-3*b**2/2 + (b*d - e)/c)**3/108 + (-3*b**2/2 + (b*d - e)/c)*(-2*b*(2*b*(3*b**2/64 - (b*d - e)/(16*c)) - 1/(2*c)) - b*f/c)/3 - (2*b*(b**2/2 - (b*d - e)/(2*c)) - 2/c)**2/8)**2/4))**(1/3)) + 2*((-3*b**2/2 + (b*d - e)/c)**3/216 - (-3*b**2/2 + (b*d - e)/c)*(-2*b*(2*b*(3*b**2/64 - (b*d - e)/(16*c)) - 1/(2*c)) - b*f/c)/6 + (2*b*(b**2/2 - (b*d - e)/(2*c)) - 2/c)**2/16 + sqrt((2*b*(2*b*(3*b**2/64 - (b*d - e)/(16*c)) - 1/(2*c)) + b*f/c - (-3*b**2/2 + (b*d - e)/c)**2/12)**3/27 + (-(-3*b**2/2 + (b*d - e)/c)**3/108 + (-3*b**2/2 + (b*d - e)/c)*(-2*b*(2*b*(3*b**2/64 - (b*d - e)/(16*c)) - 1/(2*c)) - b*f/c)/3 - (2*b*(b**2/2 - (b*d - e)/(2*c)) - 2/c)**2/8)**2/4))**(1/3) - 2*(b*d - e)/(3*c))/2 + sqrt(2*b**2 + (4*b*(b**2/2 - (b*d - e)/(2*c)) - 4/c)/sqrt(b**2 - 2*(2*b*(2*b*(3*b**2/64 - (b*d - e)/(16*c)) - 1/(2*c)) + b*f/c - (-3*b**2/2 + (b*d - e)/c)**2/12)/(3*((-3*b**2/2 + (b*d - e)/c)**3/216 - (-3*b**2/2 + (b*d - e)/c)*(-2*b*(2*b*(3*b**2/64 - (b*d - e)/(16*c)) - 1/(2*c)) - b*f/c)/6 + (2*b*(b**2/2 - (b*d - e)/(2*c)) - 2/c)**2/16 + sqrt((2*b*(2*b*(3*b**2/64 - (b*d - e)/(16*c)) - 1/(2*c)) + b*f/c - (-3*b**2/2 + (b*d - e)/c)**2/12)**3/27 + (-(-3*b**2/2 + (b*d - e)/c)**3/108 + (-3*b**2/2 + (b*d - e)/c)*(-2*b*(2*b*(3*b**2/64 - (b*d - e)/(16*c)) - 1/(2*c)) - b*f/c)/3 - (2*b*(b**2/2 - (b*d - e)/(2*c)) - 2/c)**2/8)**2/4))**(1/3)) + 2*((-3*b**2/2 + (b*d - e)/c)**3/216 - (-3*b**2/2 + (b*d - e)/c)*(-2*b*(2*b*(3*b**2/64 - (b*d - e)/(16*c)) - 1/(2*c)) - b*f/c)/6 + (2*b*(b**2/2 - (b*d - e)/(2*c)) - 2/c)**2/16 + sqrt((2*b*(2*b*(3*b**2/64 - (b*d - e)/(16*c)) - 1/(2*c)) + b*f/c - (-3*b**2/2 + (b*d - e)/c)**2/12)**3/27 + (-(-3*b**2/2 + (b*d - e)/c)**3/108 + (-3*b**2/2 + (b*d - e)/c)*(-2*b*(2*b*(3*b**2/64 - (b*d - e)/(16*c)) - 1/(2*c)) - b*f/c)/3 - (2*b*(b**2/2 - (b*d - e)/(2*c)) - 2/c)**2/8)**2/4))**(1/3) - 2*(b*d - e)/(3*c)) + 2*(2*b*(2*b*(3*b**2/64 - (b*d - e)/(16*c)) - 1/(2*c)) + b*f/c - (-3*b**2/2 + (b*d - e)/c)**2/12)/(3*((-3*b**2/2 + (b*d - e)/c)**3/216 - (-3*b**2/2 + (b*d - e)/c)*(-2*b*(2*b*(3*b**2/64 - (b*d - e)/(16*c)) - 1/(2*c)) - b*f/c)/6 + (2*b*(b**2/2 - (b*d - e)/(2*c)) - 2/c)**2/16 + sqrt((2*b*(2*b*(3*b**2/64 - (b*d - e)/(16*c)) - 1/(2*c)) + b*f/c - (-3*b**2/2 + (b*d - e)/c)**2/12)**3/27 + (-(-3*b**2/2 + (b*d - e)/c)**3/108 + (-3*b**2/2 + (b*d - e)/c)*(-2*b*(2*b*(3*b**2/64 - (b*d - e)/(16*c)) - 1/(2*c)) - b*f/c)/3 - (2*b*(b**2/2 - (b*d - e)/(2*c)) - 2/c)**2/8)**2/4))**(1/3)) - 2*((-3*b**2/2 + (b*d - e)/c)**3/216 - (-3*b**2/2 + (b*d - e)/c)*(-2*b*(2*b*(3*b**2/64 - (b*d - e)/(16*c)) - 1/(2*c)) - b*f/c)/6 + (2*b*(b**2/2 - (b*d - e)/(2*c)) - 2/c)**2/16 + sqrt((2*b*(2*b*(3*b**2/64 - (b*d - e)/(16*c)) - 1/(2*c)) + b*f/c - (-3*b**2/2 + (b*d - e)/c)**2/12)**3/27 + (-(-3*b**2/2 + (b*d - e)/c)**3/108 + (-3*b**2/2 + (b*d - e)/c)*(-2*b*(2*b*(3*b**2/64 - (b*d - e)/(16*c)) - 1/(2*c)) - b*f/c)/3 - (2*b*(b**2/2 - (b*d - e)/(2*c)) - 2/c)**2/8)**2/4))**(1/3) - 4*(b*d - e)/(3*c))/2, True)),\n",
       " Piecewise((-b/2 + sqrt(b**2 - 2*(-(-3*b**2/2 + (b*d - e)/c)**3/108 + (-3*b**2/2 + (b*d - e)/c)*(-2*b*(2*b*(3*b**2/64 - (b*d - e)/(16*c)) - 1/(2*c)) - b*f/c)/3 - (2*b*(b**2/2 - (b*d - e)/(2*c)) - 2/c)**2/8)**(1/3) - 2*(b*d - e)/(3*c))/2 - sqrt(2*b**2 - (4*b*(b**2/2 - (b*d - e)/(2*c)) - 4/c)/sqrt(b**2 - 2*(-(-3*b**2/2 + (b*d - e)/c)**3/108 + (-3*b**2/2 + (b*d - e)/c)*(-2*b*(2*b*(3*b**2/64 - (b*d - e)/(16*c)) - 1/(2*c)) - b*f/c)/3 - (2*b*(b**2/2 - (b*d - e)/(2*c)) - 2/c)**2/8)**(1/3) - 2*(b*d - e)/(3*c)) + 2*(-(-3*b**2/2 + (b*d - e)/c)**3/108 + (-3*b**2/2 + (b*d - e)/c)*(-2*b*(2*b*(3*b**2/64 - (b*d - e)/(16*c)) - 1/(2*c)) - b*f/c)/3 - (2*b*(b**2/2 - (b*d - e)/(2*c)) - 2/c)**2/8)**(1/3) - 4*(b*d - e)/(3*c))/2, Eq(2*b*(2*b*(3*b**2/64 - (b*d - e)/(16*c)) - 1/(2*c)) + b*f/c - (-3*b**2/2 + (b*d - e)/c)**2/12, 0)), (-b/2 + sqrt(b**2 - 2*(2*b*(2*b*(3*b**2/64 - (b*d - e)/(16*c)) - 1/(2*c)) + b*f/c - (-3*b**2/2 + (b*d - e)/c)**2/12)/(3*((-3*b**2/2 + (b*d - e)/c)**3/216 - (-3*b**2/2 + (b*d - e)/c)*(-2*b*(2*b*(3*b**2/64 - (b*d - e)/(16*c)) - 1/(2*c)) - b*f/c)/6 + (2*b*(b**2/2 - (b*d - e)/(2*c)) - 2/c)**2/16 + sqrt((2*b*(2*b*(3*b**2/64 - (b*d - e)/(16*c)) - 1/(2*c)) + b*f/c - (-3*b**2/2 + (b*d - e)/c)**2/12)**3/27 + (-(-3*b**2/2 + (b*d - e)/c)**3/108 + (-3*b**2/2 + (b*d - e)/c)*(-2*b*(2*b*(3*b**2/64 - (b*d - e)/(16*c)) - 1/(2*c)) - b*f/c)/3 - (2*b*(b**2/2 - (b*d - e)/(2*c)) - 2/c)**2/8)**2/4))**(1/3)) + 2*((-3*b**2/2 + (b*d - e)/c)**3/216 - (-3*b**2/2 + (b*d - e)/c)*(-2*b*(2*b*(3*b**2/64 - (b*d - e)/(16*c)) - 1/(2*c)) - b*f/c)/6 + (2*b*(b**2/2 - (b*d - e)/(2*c)) - 2/c)**2/16 + sqrt((2*b*(2*b*(3*b**2/64 - (b*d - e)/(16*c)) - 1/(2*c)) + b*f/c - (-3*b**2/2 + (b*d - e)/c)**2/12)**3/27 + (-(-3*b**2/2 + (b*d - e)/c)**3/108 + (-3*b**2/2 + (b*d - e)/c)*(-2*b*(2*b*(3*b**2/64 - (b*d - e)/(16*c)) - 1/(2*c)) - b*f/c)/3 - (2*b*(b**2/2 - (b*d - e)/(2*c)) - 2/c)**2/8)**2/4))**(1/3) - 2*(b*d - e)/(3*c))/2 - sqrt(2*b**2 - (4*b*(b**2/2 - (b*d - e)/(2*c)) - 4/c)/sqrt(b**2 - 2*(2*b*(2*b*(3*b**2/64 - (b*d - e)/(16*c)) - 1/(2*c)) + b*f/c - (-3*b**2/2 + (b*d - e)/c)**2/12)/(3*((-3*b**2/2 + (b*d - e)/c)**3/216 - (-3*b**2/2 + (b*d - e)/c)*(-2*b*(2*b*(3*b**2/64 - (b*d - e)/(16*c)) - 1/(2*c)) - b*f/c)/6 + (2*b*(b**2/2 - (b*d - e)/(2*c)) - 2/c)**2/16 + sqrt((2*b*(2*b*(3*b**2/64 - (b*d - e)/(16*c)) - 1/(2*c)) + b*f/c - (-3*b**2/2 + (b*d - e)/c)**2/12)**3/27 + (-(-3*b**2/2 + (b*d - e)/c)**3/108 + (-3*b**2/2 + (b*d - e)/c)*(-2*b*(2*b*(3*b**2/64 - (b*d - e)/(16*c)) - 1/(2*c)) - b*f/c)/3 - (2*b*(b**2/2 - (b*d - e)/(2*c)) - 2/c)**2/8)**2/4))**(1/3)) + 2*((-3*b**2/2 + (b*d - e)/c)**3/216 - (-3*b**2/2 + (b*d - e)/c)*(-2*b*(2*b*(3*b**2/64 - (b*d - e)/(16*c)) - 1/(2*c)) - b*f/c)/6 + (2*b*(b**2/2 - (b*d - e)/(2*c)) - 2/c)**2/16 + sqrt((2*b*(2*b*(3*b**2/64 - (b*d - e)/(16*c)) - 1/(2*c)) + b*f/c - (-3*b**2/2 + (b*d - e)/c)**2/12)**3/27 + (-(-3*b**2/2 + (b*d - e)/c)**3/108 + (-3*b**2/2 + (b*d - e)/c)*(-2*b*(2*b*(3*b**2/64 - (b*d - e)/(16*c)) - 1/(2*c)) - b*f/c)/3 - (2*b*(b**2/2 - (b*d - e)/(2*c)) - 2/c)**2/8)**2/4))**(1/3) - 2*(b*d - e)/(3*c)) + 2*(2*b*(2*b*(3*b**2/64 - (b*d - e)/(16*c)) - 1/(2*c)) + b*f/c - (-3*b**2/2 + (b*d - e)/c)**2/12)/(3*((-3*b**2/2 + (b*d - e)/c)**3/216 - (-3*b**2/2 + (b*d - e)/c)*(-2*b*(2*b*(3*b**2/64 - (b*d - e)/(16*c)) - 1/(2*c)) - b*f/c)/6 + (2*b*(b**2/2 - (b*d - e)/(2*c)) - 2/c)**2/16 + sqrt((2*b*(2*b*(3*b**2/64 - (b*d - e)/(16*c)) - 1/(2*c)) + b*f/c - (-3*b**2/2 + (b*d - e)/c)**2/12)**3/27 + (-(-3*b**2/2 + (b*d - e)/c)**3/108 + (-3*b**2/2 + (b*d - e)/c)*(-2*b*(2*b*(3*b**2/64 - (b*d - e)/(16*c)) - 1/(2*c)) - b*f/c)/3 - (2*b*(b**2/2 - (b*d - e)/(2*c)) - 2/c)**2/8)**2/4))**(1/3)) - 2*((-3*b**2/2 + (b*d - e)/c)**3/216 - (-3*b**2/2 + (b*d - e)/c)*(-2*b*(2*b*(3*b**2/64 - (b*d - e)/(16*c)) - 1/(2*c)) - b*f/c)/6 + (2*b*(b**2/2 - (b*d - e)/(2*c)) - 2/c)**2/16 + sqrt((2*b*(2*b*(3*b**2/64 - (b*d - e)/(16*c)) - 1/(2*c)) + b*f/c - (-3*b**2/2 + (b*d - e)/c)**2/12)**3/27 + (-(-3*b**2/2 + (b*d - e)/c)**3/108 + (-3*b**2/2 + (b*d - e)/c)*(-2*b*(2*b*(3*b**2/64 - (b*d - e)/(16*c)) - 1/(2*c)) - b*f/c)/3 - (2*b*(b**2/2 - (b*d - e)/(2*c)) - 2/c)**2/8)**2/4))**(1/3) - 4*(b*d - e)/(3*c))/2, True)),\n",
       " Piecewise((-b/2 + sqrt(b**2 - 2*(-(-3*b**2/2 + (b*d - e)/c)**3/108 + (-3*b**2/2 + (b*d - e)/c)*(-2*b*(2*b*(3*b**2/64 - (b*d - e)/(16*c)) - 1/(2*c)) - b*f/c)/3 - (2*b*(b**2/2 - (b*d - e)/(2*c)) - 2/c)**2/8)**(1/3) - 2*(b*d - e)/(3*c))/2 + sqrt(2*b**2 - (4*b*(b**2/2 - (b*d - e)/(2*c)) - 4/c)/sqrt(b**2 - 2*(-(-3*b**2/2 + (b*d - e)/c)**3/108 + (-3*b**2/2 + (b*d - e)/c)*(-2*b*(2*b*(3*b**2/64 - (b*d - e)/(16*c)) - 1/(2*c)) - b*f/c)/3 - (2*b*(b**2/2 - (b*d - e)/(2*c)) - 2/c)**2/8)**(1/3) - 2*(b*d - e)/(3*c)) + 2*(-(-3*b**2/2 + (b*d - e)/c)**3/108 + (-3*b**2/2 + (b*d - e)/c)*(-2*b*(2*b*(3*b**2/64 - (b*d - e)/(16*c)) - 1/(2*c)) - b*f/c)/3 - (2*b*(b**2/2 - (b*d - e)/(2*c)) - 2/c)**2/8)**(1/3) - 4*(b*d - e)/(3*c))/2, Eq(2*b*(2*b*(3*b**2/64 - (b*d - e)/(16*c)) - 1/(2*c)) + b*f/c - (-3*b**2/2 + (b*d - e)/c)**2/12, 0)), (-b/2 + sqrt(b**2 - 2*(2*b*(2*b*(3*b**2/64 - (b*d - e)/(16*c)) - 1/(2*c)) + b*f/c - (-3*b**2/2 + (b*d - e)/c)**2/12)/(3*((-3*b**2/2 + (b*d - e)/c)**3/216 - (-3*b**2/2 + (b*d - e)/c)*(-2*b*(2*b*(3*b**2/64 - (b*d - e)/(16*c)) - 1/(2*c)) - b*f/c)/6 + (2*b*(b**2/2 - (b*d - e)/(2*c)) - 2/c)**2/16 + sqrt((2*b*(2*b*(3*b**2/64 - (b*d - e)/(16*c)) - 1/(2*c)) + b*f/c - (-3*b**2/2 + (b*d - e)/c)**2/12)**3/27 + (-(-3*b**2/2 + (b*d - e)/c)**3/108 + (-3*b**2/2 + (b*d - e)/c)*(-2*b*(2*b*(3*b**2/64 - (b*d - e)/(16*c)) - 1/(2*c)) - b*f/c)/3 - (2*b*(b**2/2 - (b*d - e)/(2*c)) - 2/c)**2/8)**2/4))**(1/3)) + 2*((-3*b**2/2 + (b*d - e)/c)**3/216 - (-3*b**2/2 + (b*d - e)/c)*(-2*b*(2*b*(3*b**2/64 - (b*d - e)/(16*c)) - 1/(2*c)) - b*f/c)/6 + (2*b*(b**2/2 - (b*d - e)/(2*c)) - 2/c)**2/16 + sqrt((2*b*(2*b*(3*b**2/64 - (b*d - e)/(16*c)) - 1/(2*c)) + b*f/c - (-3*b**2/2 + (b*d - e)/c)**2/12)**3/27 + (-(-3*b**2/2 + (b*d - e)/c)**3/108 + (-3*b**2/2 + (b*d - e)/c)*(-2*b*(2*b*(3*b**2/64 - (b*d - e)/(16*c)) - 1/(2*c)) - b*f/c)/3 - (2*b*(b**2/2 - (b*d - e)/(2*c)) - 2/c)**2/8)**2/4))**(1/3) - 2*(b*d - e)/(3*c))/2 + sqrt(2*b**2 - (4*b*(b**2/2 - (b*d - e)/(2*c)) - 4/c)/sqrt(b**2 - 2*(2*b*(2*b*(3*b**2/64 - (b*d - e)/(16*c)) - 1/(2*c)) + b*f/c - (-3*b**2/2 + (b*d - e)/c)**2/12)/(3*((-3*b**2/2 + (b*d - e)/c)**3/216 - (-3*b**2/2 + (b*d - e)/c)*(-2*b*(2*b*(3*b**2/64 - (b*d - e)/(16*c)) - 1/(2*c)) - b*f/c)/6 + (2*b*(b**2/2 - (b*d - e)/(2*c)) - 2/c)**2/16 + sqrt((2*b*(2*b*(3*b**2/64 - (b*d - e)/(16*c)) - 1/(2*c)) + b*f/c - (-3*b**2/2 + (b*d - e)/c)**2/12)**3/27 + (-(-3*b**2/2 + (b*d - e)/c)**3/108 + (-3*b**2/2 + (b*d - e)/c)*(-2*b*(2*b*(3*b**2/64 - (b*d - e)/(16*c)) - 1/(2*c)) - b*f/c)/3 - (2*b*(b**2/2 - (b*d - e)/(2*c)) - 2/c)**2/8)**2/4))**(1/3)) + 2*((-3*b**2/2 + (b*d - e)/c)**3/216 - (-3*b**2/2 + (b*d - e)/c)*(-2*b*(2*b*(3*b**2/64 - (b*d - e)/(16*c)) - 1/(2*c)) - b*f/c)/6 + (2*b*(b**2/2 - (b*d - e)/(2*c)) - 2/c)**2/16 + sqrt((2*b*(2*b*(3*b**2/64 - (b*d - e)/(16*c)) - 1/(2*c)) + b*f/c - (-3*b**2/2 + (b*d - e)/c)**2/12)**3/27 + (-(-3*b**2/2 + (b*d - e)/c)**3/108 + (-3*b**2/2 + (b*d - e)/c)*(-2*b*(2*b*(3*b**2/64 - (b*d - e)/(16*c)) - 1/(2*c)) - b*f/c)/3 - (2*b*(b**2/2 - (b*d - e)/(2*c)) - 2/c)**2/8)**2/4))**(1/3) - 2*(b*d - e)/(3*c)) + 2*(2*b*(2*b*(3*b**2/64 - (b*d - e)/(16*c)) - 1/(2*c)) + b*f/c - (-3*b**2/2 + (b*d - e)/c)**2/12)/(3*((-3*b**2/2 + (b*d - e)/c)**3/216 - (-3*b**2/2 + (b*d - e)/c)*(-2*b*(2*b*(3*b**2/64 - (b*d - e)/(16*c)) - 1/(2*c)) - b*f/c)/6 + (2*b*(b**2/2 - (b*d - e)/(2*c)) - 2/c)**2/16 + sqrt((2*b*(2*b*(3*b**2/64 - (b*d - e)/(16*c)) - 1/(2*c)) + b*f/c - (-3*b**2/2 + (b*d - e)/c)**2/12)**3/27 + (-(-3*b**2/2 + (b*d - e)/c)**3/108 + (-3*b**2/2 + (b*d - e)/c)*(-2*b*(2*b*(3*b**2/64 - (b*d - e)/(16*c)) - 1/(2*c)) - b*f/c)/3 - (2*b*(b**2/2 - (b*d - e)/(2*c)) - 2/c)**2/8)**2/4))**(1/3)) - 2*((-3*b**2/2 + (b*d - e)/c)**3/216 - (-3*b**2/2 + (b*d - e)/c)*(-2*b*(2*b*(3*b**2/64 - (b*d - e)/(16*c)) - 1/(2*c)) - b*f/c)/6 + (2*b*(b**2/2 - (b*d - e)/(2*c)) - 2/c)**2/16 + sqrt((2*b*(2*b*(3*b**2/64 - (b*d - e)/(16*c)) - 1/(2*c)) + b*f/c - (-3*b**2/2 + (b*d - e)/c)**2/12)**3/27 + (-(-3*b**2/2 + (b*d - e)/c)**3/108 + (-3*b**2/2 + (b*d - e)/c)*(-2*b*(2*b*(3*b**2/64 - (b*d - e)/(16*c)) - 1/(2*c)) - b*f/c)/3 - (2*b*(b**2/2 - (b*d - e)/(2*c)) - 2/c)**2/8)**2/4))**(1/3) - 4*(b*d - e)/(3*c))/2, True))]"
      ]
     },
     "execution_count": 6,
     "metadata": {},
     "output_type": "execute_result"
    }
   ],
   "source": [
    "import sympy as sy\n",
    "from sympy import real_roots\n",
    "from sympy.abc import x\n",
    "from sympy import Symbol\n",
    "b = Symbol('b')\n",
    "c= Symbol('c')\n",
    "d = Symbol('d')\n",
    "e = Symbol('e')\n",
    "f = Symbol('f')\n",
    "sy.solve(-c*x**4-2*b*c*x**3+ (e-b*d)*x**2+ 2*x+b*f ,x)\n"
   ]
  }
 ],
 "metadata": {
  "kernelspec": {
   "display_name": "Python 3",
   "language": "python",
   "name": "python3"
  },
  "language_info": {
   "codemirror_mode": {
    "name": "ipython",
    "version": 3
   },
   "file_extension": ".py",
   "mimetype": "text/x-python",
   "name": "python",
   "nbconvert_exporter": "python",
   "pygments_lexer": "ipython3",
   "version": "3.8.5"
  }
 },
 "nbformat": 4,
 "nbformat_minor": 4
}
