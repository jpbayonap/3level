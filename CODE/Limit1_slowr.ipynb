{
 "cells": [
  {
   "cell_type": "code",
   "execution_count": null,
   "id": "engaged-auckland",
   "metadata": {},
   "outputs": [],
   "source": [
    "import numpy as np\n",
    "import matplotlib.pytplot as plt\n",
    "from pylab import rcParams\n",
    "rcParams['figure.figsize'] = 10,6\n",
    "eps= 1e6\n",
    "n_c= \n",
    "def eq1(n,e):\n",
    "    return e*n\n",
    "\n",
    "def eq2(n,e,n_c):\n",
    "    return (np.exp(-e*n)(np.exp(-(1-n_c)*e) -np.exp(-e*(1-n)))\\\n",
    "           *(1+np.exp(-(1-n_c)*e)+np.exp(-e*(1-n))))\\\n",
    "           /(2*np.exp(-(1-n_c)*e)+1)\n",
    "    \n"
   ]
  }
 ],
 "metadata": {
  "kernelspec": {
   "display_name": "Python 3",
   "language": "python",
   "name": "python3"
  },
  "language_info": {
   "codemirror_mode": {
    "name": "ipython",
    "version": 3
   },
   "file_extension": ".py",
   "mimetype": "text/x-python",
   "name": "python",
   "nbconvert_exporter": "python",
   "pygments_lexer": "ipython3",
   "version": "3.8.5"
  }
 },
 "nbformat": 4,
 "nbformat_minor": 5
}
