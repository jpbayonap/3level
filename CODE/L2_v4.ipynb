{
 "cells": [
  {
   "cell_type": "code",
   "execution_count": 3,
   "id": "documented-funeral",
   "metadata": {},
   "outputs": [],
   "source": [
    "import numpy as np\n",
    "class case_3():\n",
    "    def __init__(self):\n",
    "        #carnot efficiency\n",
    "        self.n_c  = np.array([0.9,0.8,0.7,0.1])[-2]\n",
    "        #second type\n",
    "        self.n_c2 = np.arange(1e-3,1,0.02)\n",
    "        #temperatures\n",
    "        self.b_l  = 1/np.append(np.linspace(300,15,50),np.linspace(15,1.5,50))\n",
    "        \n",
    "        \n",
    "        self.b_h  = (1-self.n_c)*self.b_l\n",
    "        \n",
    "        # eigen energies\n",
    "        self.w10 = 20\n",
    "        self.w2w1 = 2.6\n",
    "        \n",
    "        # lambda/w10\n",
    "        self.lw = np.linspace(1e-3,np.sqrt(self.w2w1),100)\n",
    "        # instantaneous eigen energies\n",
    "        self.e_20 = self.w10*((1+self.w2w1 )/2 + np.sqrt(((self.w2w1-1)/2 )**2 +(self.lw)**2  ))\n",
    "        self.e_10 = self.w10*((1+self.w2w1 )/2 - np.sqrt(((self.w2w1-1)/2 )**2 +(self.lw)**2  ))\n",
    "        #lindblad constants\n",
    "        self.g_l  = 100\n",
    "        #self.g_h  = np.array([self.g_l,self.g_l*0.5,self.g_l*0.2])\n",
    "        self.g_h  = self.g_l*5\n",
    "        self.g    = (self.g_l+ self.g_h)/2\n",
    "        #cosine data\n",
    "        self.c    = (self.w2w1 -1 )/(2*np.sqrt(((self.w2w1-1)/2 )**2 +(self.lw)**2 ))\n",
    "        #case_3 (eta_c)\n",
    "        \n",
    "        self.GA = (self.g/(self.e_20-self.e_10))**2\n",
    "        \n",
    "\n",
    "    def H(self):\n",
    "        H_3 =[]\n",
    "        for value in range(len(self.b_l)):\n",
    "            H_3.append( (np.exp(-self.b_l[value]*self.e_20 )-np.exp(-self.b_h[value]*self.e_20)\\\n",
    "                        + np.exp(-self.b_h[value]*self.e_10)-np.exp(-self.b_l[value]*self.e_10 ) )\\\n",
    "                        /(1/2*(2+ np.exp(-self.b_l[value]*self.e_20 )+np.exp(-self.b_h[value]*self.e_20)\\\n",
    "                        + np.exp(-self.b_h[value]*self.e_10)+np.exp(-self.b_l[value]*self.e_10 ) )) )\n",
    "                #print(step)\n",
    "        return H_3\n",
    "    def I(self):\n",
    "        I_3= []\n",
    "        for value in range(len(self.b_l)):\n",
    "            I_3.append( ((1+np.exp(-self.b_l[value]*self.e_20)+np.exp(-self.b_h[value]*self.e_20) )/(self.g_l)\\\n",
    "                        +(1+np.exp(-self.b_h[value]*self.e_10)+np.exp(-self.b_l[value]*self.e_10 ))/self.g_h)\\\n",
    "                        /(1/2*(2+ np.exp(-self.b_l[value]*self.e_20 )+np.exp(-self.b_h[value]*self.e_20)\\\n",
    "                        + np.exp(-self.b_h[value]*self.e_10)+np.exp(-self.b_l[value]*self.e_10 ) ))) \n",
    "        return I_3\n",
    "    def J(self):\n",
    "        J_3 =[]\n",
    "        for value in range(len(self.b_l)):\n",
    "            J_3.append( ((np.exp(-self.b_l[value]*self.e_20)-np.exp(-self.b_h[value]*self.e_20))/self.g_l \\\n",
    "                        +(np.exp(-self.b_h[value]*self.e_10)-np.exp(-self.b_l[value]*self.e_10))/self.g_h )\\\n",
    "                        /(1/2*(2+ np.exp(-self.b_l[value]*self.e_20 )+np.exp(-self.b_h[value]*self.e_20)\\\n",
    "                        + np.exp(-self.b_h[value]*self.e_10)+np.exp(-self.b_l[value]*self.e_10 ) )))\n",
    "        return J_3\n",
    "var =case_3()\n",
    "\n",
    "\n",
    "\n"
   ]
  },
  {
   "cell_type": "code",
   "execution_count": null,
   "id": "direct-spirit",
   "metadata": {},
   "outputs": [],
   "source": []
  },
  {
   "cell_type": "code",
   "execution_count": 4,
   "id": "presidential-chuck",
   "metadata": {},
   "outputs": [],
   "source": [
    "#case 2\n",
    "def power_l2(var,index):\n",
    "    c = var.c\n",
    "    b_l= var.b_l[index]\n",
    "    b_h= var.b_h[index]\n",
    "    H  = var.H()[index]\n",
    "    I  = var.I()[index]\n",
    "    J  = var.J()[index]\n",
    "    \n",
    "    \n",
    "    power_l2 = ( (var.e_20-var.e_10) *((1 + var.GA)*(1- c**2)*\\\n",
    "                (((1-c )/2 )*(np.exp(-b_l*var.e_20)-np.exp(-b_h*var.e_10) )\\\n",
    "                +((1+c )/2 )*(np.exp(-b_h*var.e_20)-np.exp(-b_l*var.e_10) )) ))\\\n",
    "                /((2+np.exp(-b_l*var.e_20)+np.exp(-b_h*var.e_20)\\\n",
    "                +np.exp(-b_l*var.e_10)+np.exp(-b_h*var.e_10))\\\n",
    "                *( (var.GA/var.g)*c**2 - ((var.GA)/(2*var.g))*H*c**3\\\n",
    "                + ((1-c**2)/2)*(1+ var.GA)*(I-J*c) ))\n",
    "   \n",
    "    # eliminate unwanted values\n",
    "    return power_l2\n"
   ]
  },
  {
   "cell_type": "code",
   "execution_count": 5,
   "id": "classified-portugal",
   "metadata": {},
   "outputs": [],
   "source": [
    "var3 = case_3()\n",
    "def POWER_beta(var):\n",
    "    POWER=[]\n",
    "    for value in range(len(var.b_l)):\n",
    "        POWER.append(power_l2(var3,value))\n",
    "    return POWER\n",
    "        \n",
    "PO= POWER_beta(var3)\n",
    "\n"
   ]
  },
  {
   "cell_type": "code",
   "execution_count": null,
   "id": "antique-closing",
   "metadata": {},
   "outputs": [],
   "source": []
  },
  {
   "cell_type": "code",
   "execution_count": 6,
   "id": "textile-newman",
   "metadata": {},
   "outputs": [
    {
     "data": {
      "text/plain": [
       "<matplotlib.legend.Legend at 0x7f33a4722d30>"
      ]
     },
     "execution_count": 6,
     "metadata": {},
     "output_type": "execute_result"
    },
    {
     "data": {
      "image/png": "[encoded data removed]",
      "text/plain": [
       "<Figure size 432x288 with 1 Axes>"
      ]
     },
     "metadata": {
      "needs_background": "light"
     },
     "output_type": "display_data"
    }
   ],
   "source": [
    "import matplotlib.pyplot as plt\n",
    "def PO_max(p):\n",
    "    result =[]\n",
    "    for element in p:\n",
    "        result.append(max(element))\n",
    "    return result\n",
    "y = PO_max(PO)\n",
    "#y1 = EFF_max(EFF)\n",
    "plt.plot(1/var3.b_h,y,label='\\n Carnot eff = %.1f'%(var3.n_c) )\n",
    "#plt.scatter(1/var3.b_l[y==max(y)] , max(y),label= r'$T_l^*= %.2f$'%(1/var3.b_l[y==max(y)])\\\n",
    " #          +'\\n'+r' $P_{max}= %.2f$'%(max(y)))\n",
    "#plt.scatter(1/var3.b_l[y==min(y)] , min(y),label= r'$T_l^*= %.2f$'%(1/var3.b_l[y==min(y)])\\\n",
    "      #     +'\\n'+r' $P_{max}= %.2f$'%(min(y)))\n",
    "#plt.scatter(1/var3.b_l[y1==max(y1)],y[y1.index(max(y1))] )\n",
    "plt.xlabel(r'$T_l$',fontsize=15)\n",
    "plt.ylabel('P',fontsize=15)\n",
    "plt.legend()\n"
   ]
  },
  {
   "cell_type": "code",
   "execution_count": 6,
   "id": "unknown-clinton",
   "metadata": {},
   "outputs": [],
   "source": [
    "\n",
    "def n_l2(var,power,index):\n",
    "    b_l= var.b_l[index]\n",
    "    b_h= (1-var.n_c)*var.b_l[index]\n",
    "    c = var.c\n",
    "    p = power[index]\n",
    "    eta_0 =  (1 - (var.e_10)/(var.e_20))/(1 - ((1-c)/2)*(1+ var.e_10/var.e_20 ))\n",
    "    p_0   =  var.g_l*var.e_10*((1-c**2)/4)*(np.exp(-b_h*var.e_10)-np.exp(-b_l*var.e_10) ) \\\n",
    "            +var.g_h*var.e_20*((1-c**2)/4)*(np.exp(-b_h*var.e_20)-np.exp(-b_l*var.e_20) )\n",
    "    om_s  = ((var.e_20-var.e_10)**2 +var.g**2)/((var.e_20-var.e_10)*c)\n",
    "    rho_0 =  (((1-c**2)*om_s)/var.g_l+((1-c**2)*om_s)/var.g_h + (2*var.g*c)/(var.e_20-var.e_10) ) \\\n",
    "            /( (1+ (1-c)*np.exp(-b_l*var.e_20) +(1+c)*np.exp(-b_h*var.e_20) )\\\n",
    "              *( ((1-c**2)*om_s)/var.g_l+(var.g*c)/(var.e_20-var.e_10))\\\n",
    "             +( (1+ (1+c)*np.exp(-b_l*var.e_10) +(1-c)*np.exp(-b_h*var.e_10) )\\\n",
    "              *( ((1-c**2)*om_s)/var.g_h+(var.g*c)/(var.e_20-var.e_10))))\n",
    "   \n",
    "    n = eta_0*((p))/(p+ eta_0*rho_0*p_0 )\n",
    "    return n\n"
   ]
  },
  {
   "cell_type": "code",
   "execution_count": 7,
   "id": "hydraulic-straight",
   "metadata": {},
   "outputs": [],
   "source": [
    "def EFF_beta(var,power):\n",
    "    E=[]\n",
    "    for value in range(len(var.b_l)):\n",
    "        E.append(n_l2(var3,power,value))\n",
    "    return E\n",
    " \n",
    "EFF = EFF_beta(var3,PO)    \n",
    "\n"
   ]
  },
  {
   "cell_type": "code",
   "execution_count": 8,
   "id": "distributed-feeding",
   "metadata": {},
   "outputs": [
    {
     "data": {
      "text/plain": [
       "<matplotlib.legend.Legend at 0x7fce44060dc0>"
      ]
     },
     "execution_count": 8,
     "metadata": {},
     "output_type": "execute_result"
    },
    {
     "data": {
      "image/png": "[encoded data removed]",
      "text/plain": [
       "<Figure size 432x288 with 1 Axes>"
      ]
     },
     "metadata": {
      "needs_background": "light"
     },
     "output_type": "display_data"
    }
   ],
   "source": [
    "def EFF_max(p):\n",
    "    result =[]\n",
    "    for element in p:\n",
    "        element= element[[1>value >-1 for value in element ]]\n",
    "        result.append(max(element))\n",
    "    return result\n",
    "\n",
    "\n",
    "y = EFF_max(EFF)\n",
    "plt.plot(1/var3.b_l,y,label='\\n Carnot eff = %.1f'%(var3.n_c) )\n",
    "plt.scatter(1/var3.b_l[y==max(y)] , max(y),label= r'$T_l^*= %.2f$'%(1/var3.b_l[y==max(y)])\\\n",
    "           +'\\n eff = %.2f'%(max(y)))\n",
    "plt.xlabel(r'$T_l$',fontsize=15)\n",
    "plt.ylabel(r'$\\eta$',fontsize=15)\n",
    "#plt.ylim(-1,1)\n",
    "plt.legend()"
   ]
  },
  {
   "cell_type": "code",
   "execution_count": 9,
   "id": "smoking-perfume",
   "metadata": {},
   "outputs": [
    {
     "data": {
      "text/plain": [
       "(0.0, 1.0)"
      ]
     },
     "execution_count": 9,
     "metadata": {},
     "output_type": "execute_result"
    },
    {
     "data": {
      "image/png": "[encoded data removed]",
      "text/plain": [
       "<Figure size 432x288 with 1 Axes>"
      ]
     },
     "metadata": {
      "needs_background": "light"
     },
     "output_type": "display_data"
    }
   ],
   "source": [
    "plt.plot(EFF[-40],PO[-40])\n",
    "plt.ylim(0,100)\n",
    "plt.xlim(0,1)"
   ]
  },
  {
   "cell_type": "code",
   "execution_count": 10,
   "id": "checked-soldier",
   "metadata": {},
   "outputs": [
    {
     "ename": "NameError",
     "evalue": "name 'EFF_3' is not defined",
     "output_type": "error",
     "traceback": [
      "\u001b[0;31m---------------------------------------------------------------------------\u001b[0m",
      "\u001b[0;31mNameError\u001b[0m                                 Traceback (most recent call last)",
      "\u001b[0;32m<ipython-input-10-ebd052d22eed>\u001b[0m in \u001b[0;36m<module>\u001b[0;34m\u001b[0m\n\u001b[0;32m----> 1\u001b[0;31m \u001b[0mplt\u001b[0m\u001b[0;34m.\u001b[0m\u001b[0mplot\u001b[0m\u001b[0;34m(\u001b[0m\u001b[0mEFF_3\u001b[0m\u001b[0;34m,\u001b[0m\u001b[0mPO_3\u001b[0m\u001b[0;34m,\u001b[0m\u001b[0mlabel\u001b[0m\u001b[0;34m=\u001b[0m \u001b[0;34m'Carnot eff = %.2f'\u001b[0m\u001b[0;34m%\u001b[0m\u001b[0;34m(\u001b[0m\u001b[0mvar3\u001b[0m\u001b[0;34m.\u001b[0m\u001b[0mn_c\u001b[0m\u001b[0;34m)\u001b[0m\u001b[0;34m)\u001b[0m\u001b[0;34m\u001b[0m\u001b[0;34m\u001b[0m\u001b[0m\n\u001b[0m\u001b[1;32m      2\u001b[0m \u001b[0mplt\u001b[0m\u001b[0;34m.\u001b[0m\u001b[0mylim\u001b[0m\u001b[0;34m(\u001b[0m\u001b[0;36m0\u001b[0m\u001b[0;34m,\u001b[0m\u001b[0mmax\u001b[0m\u001b[0;34m(\u001b[0m\u001b[0mPO_3\u001b[0m\u001b[0;34m)\u001b[0m\u001b[0;34m+\u001b[0m\u001b[0;36m1\u001b[0m\u001b[0;34m)\u001b[0m\u001b[0;34m\u001b[0m\u001b[0;34m\u001b[0m\u001b[0m\n\u001b[1;32m      3\u001b[0m \u001b[0mplt\u001b[0m\u001b[0;34m.\u001b[0m\u001b[0mxlim\u001b[0m\u001b[0;34m(\u001b[0m\u001b[0;34m-\u001b[0m\u001b[0;36m0\u001b[0m\u001b[0;34m,\u001b[0m\u001b[0mEFF_3\u001b[0m\u001b[0;34m[\u001b[0m\u001b[0mPO_3\u001b[0m\u001b[0;34m==\u001b[0m\u001b[0mmin\u001b[0m\u001b[0;34m(\u001b[0m\u001b[0mPO_3\u001b[0m\u001b[0;34m[\u001b[0m\u001b[0mPO_3\u001b[0m\u001b[0;34m>\u001b[0m\u001b[0;36m0\u001b[0m\u001b[0;34m]\u001b[0m\u001b[0;34m)\u001b[0m\u001b[0;34m]\u001b[0m\u001b[0;34m+\u001b[0m\u001b[0;36m0.1\u001b[0m\u001b[0;34m)\u001b[0m\u001b[0;34m\u001b[0m\u001b[0;34m\u001b[0m\u001b[0m\n\u001b[1;32m      4\u001b[0m \u001b[0mplt\u001b[0m\u001b[0;34m.\u001b[0m\u001b[0mxlabel\u001b[0m\u001b[0;34m(\u001b[0m\u001b[0;34mr'$\\eta$'\u001b[0m\u001b[0;34m,\u001b[0m\u001b[0mfontsize\u001b[0m\u001b[0;34m=\u001b[0m\u001b[0;36m18\u001b[0m\u001b[0;34m)\u001b[0m\u001b[0;34m\u001b[0m\u001b[0;34m\u001b[0m\u001b[0m\n\u001b[1;32m      5\u001b[0m \u001b[0mplt\u001b[0m\u001b[0;34m.\u001b[0m\u001b[0mylabel\u001b[0m\u001b[0;34m(\u001b[0m\u001b[0;34mr'$P$'\u001b[0m\u001b[0;34m,\u001b[0m\u001b[0mfontsize\u001b[0m\u001b[0;34m=\u001b[0m\u001b[0;36m18\u001b[0m\u001b[0;34m)\u001b[0m\u001b[0;34m\u001b[0m\u001b[0;34m\u001b[0m\u001b[0m\n",
      "\u001b[0;31mNameError\u001b[0m: name 'EFF_3' is not defined"
     ]
    }
   ],
   "source": [
    "plt.plot(EFF_3,PO_3,label= 'Carnot eff = %.2f'%(var3.n_c))\n",
    "plt.ylim(0,max(PO_3)+1)\n",
    "plt.xlim(-0,EFF_3[PO_3==min(PO_3[PO_3>0])]+0.1)\n",
    "plt.xlabel(r'$\\eta$',fontsize=18)\n",
    "plt.ylabel(r'$P$',fontsize=18)\n",
    "#plt.axhline(y=0, color='r', linestyle='-')\n",
    "plt.scatter(EFF_3[PO_3==max(PO_3)], max(PO_3),label= r'$P_{max} \\;\\;=$'+'%.4f'%(max(PO_3))\\\n",
    "            +'\\n'+r'$\\eta^*= %.3f \\eta_{max}$'%(EFF_3[PO_3==max(PO_3)]/max(EFF_3)))\n",
    "plt.legend()\n",
    "\n",
    "EFF_3[PO_3==min(PO_3[PO_3>0])]"
   ]
  },
  {
   "cell_type": "code",
   "execution_count": null,
   "id": "cooked-verse",
   "metadata": {},
   "outputs": [],
   "source": []
  },
  {
   "cell_type": "code",
   "execution_count": 79,
   "id": "multiple-rendering",
   "metadata": {},
   "outputs": [],
   "source": [
    "import json \n",
    "\n",
    "dic = { 'eff':list(EFF),'power': list(PO), 'lw':list(var3.lw)\\\n",
    "        ,'c':list(var3.c) }\n",
    "\n",
    "dic_bl= {'T_l':list(1/var3.b_l), 'P_max':list(y),'eff_max':list(y1)}"
   ]
  },
  {
   "cell_type": "code",
   "execution_count": 86,
   "id": "allied-property",
   "metadata": {},
   "outputs": [],
   "source": [
    "import pickle\n",
    "with open('L2_n_c_'+'%.f'%(var3.n_c)+'_%.1fto'%(1/var3.b_l[0])+'%.2f'%(1/var3.b_l[-1])+'.json','wb') as f:\n",
    "    pickle.dump(dic,f)\n",
    "with open('L2_n_c_'+'max_'+'%.f'%(var3.n_c)+'_%.1fto'%(1/var3.b_l[0])+'%.2f'%(1/var3.b_l[-1])+'.json','wb') as f:\n",
    "    pickle.dump(dic_bl,f)"
   ]
  }
 ],
 "metadata": {
  "kernelspec": {
   "display_name": "Python 3",
   "language": "python",
   "name": "python3"
  },
  "language_info": {
   "codemirror_mode": {
    "name": "ipython",
    "version": 3
   },
   "file_extension": ".py",
   "mimetype": "text/x-python",
   "name": "python",
   "nbconvert_exporter": "python",
   "pygments_lexer": "ipython3",
   "version": "3.8.5"
  }
 },
 "nbformat": 4,
 "nbformat_minor": 5
}
